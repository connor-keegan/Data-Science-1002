{
  "nbformat": 4,
  "nbformat_minor": 0,
  "metadata": {
    "colab": {
      "provenance": [],
      "authorship_tag": "ABX9TyMK+QSmKsOZ/oS+Fh4y8409",
      "include_colab_link": true
    },
    "kernelspec": {
      "name": "python3",
      "display_name": "Python 3"
    },
    "language_info": {
      "name": "python"
    }
  },
  "cells": [
    {
      "cell_type": "markdown",
      "metadata": {
        "id": "view-in-github",
        "colab_type": "text"
      },
      "source": [
        "<a href=\"https://colab.research.google.com/github/connor-keegan/Data-Science-1002/blob/main/Zach_Atlas%2C_Ben_Garozzo_and_Connor_Keegan_Feb_12_Homework.ipynb\" target=\"_parent\"><img src=\"https://colab.research.google.com/assets/colab-badge.svg\" alt=\"Open In Colab\"/></a>"
      ]
    },
    {
      "cell_type": "markdown",
      "source": [
        "This assignment was completed by Zach Atlas, Ben Garozzo and Connor Keegan"
      ],
      "metadata": {
        "id": "IIAasT4NHpP_"
      }
    },
    {
      "cell_type": "code",
      "execution_count": 12,
      "metadata": {
        "colab": {
          "base_uri": "https://localhost:8080/"
        },
        "id": "SD6IZsXK-hEx",
        "outputId": "b378fc6e-3058-4c36-bb0d-1f563c12947c"
      },
      "outputs": [
        {
          "output_type": "stream",
          "name": "stdout",
          "text": [
            "Welcome! In this game, the computer will generate an integer between 1 and 100, and it is your job to guess the number. Good luck!\n",
            "Your Guess: 50\n",
            "Too high\n",
            "Your Guess: -100\n",
            "The guess must be an integer between 1 and 100.\n",
            "Your Guess: 25\n",
            "Too low\n",
            "Your Guess: 40\n",
            "Too low\n",
            "Your Guess: 45\n",
            "Too low\n",
            "Your Guess: 48\n",
            "Too high\n",
            "Your Guess: 47\n",
            "You got it!\n",
            "It took you 6 guesses.\n"
          ]
        }
      ],
      "source": [
        "print(\"Welcome! In this game, the computer will generate an integer between 1 and 100, and it is your job to guess the number. Good luck!\")\n",
        "import numpy as np\n",
        "i = 0\n",
        "number = np.random.randint(1, 101)\n",
        "while True:\n",
        "  try:\n",
        "    i += 1\n",
        "    guess = int(input(\"Your Guess: \"))\n",
        "    if guess < 1 or guess > 100:\n",
        "      print(\"The guess must be an integer between 1 and 100.\")\n",
        "      i -= 1\n",
        "    if guess == number:\n",
        "      print(\"You got it!\")\n",
        "      if i == 1:\n",
        "        print(f\"It took you {i} guess.\")\n",
        "      else:\n",
        "        print(f\"It took you {i} guesses.\")\n",
        "      break\n",
        "    elif guess < number and 1 <= guess <= 100:\n",
        "      print(\"Too low\")\n",
        "    elif guess > number and 1 <= guess <= 100:\n",
        "     print(\"Too high\")\n",
        "  except ValueError:\n",
        "    print(\"The guess must be an integer.\")\n",
        "    i -= 1\n",
        "  except:\n",
        "    print(\"Invalid guess. Please guess an integer between 1 and 100.\")\n",
        "    i -= 1"
      ]
    },
    {
      "cell_type": "markdown",
      "source": [
        "This assignment took us about an hour to complete."
      ],
      "metadata": {
        "id": "93N9d4J0I72O"
      }
    }
  ]
}