{
  "cells": [
    {
      "cell_type": "markdown",
      "metadata": {
        "id": "view-in-github",
        "colab_type": "text"
      },
      "source": [
        "<a href=\"https://colab.research.google.com/github/connor-keegan/Data-Science-1002/blob/main/Assignments/10_Bulls_Cows.ipynb\" target=\"_parent\"><img src=\"https://colab.research.google.com/assets/colab-badge.svg\" alt=\"Open In Colab\"/></a>"
      ]
    },
    {
      "cell_type": "markdown",
      "source": [
        "This assignment was completed by Zach Atlas and Connor Keegan"
      ],
      "metadata": {
        "id": "n3t9RcL1ayvM"
      }
    },
    {
      "cell_type": "markdown",
      "metadata": {
        "id": "lSwr8T3SNrkj"
      },
      "source": [
        "## Bulls and Cows:\n",
        "### Another guessing game.\n",
        "### Assignment due Wednesday 10 April at 10 am\n",
        "\n",
        "General instructions:\n",
        "\n",
        "1. You may work in teams of up to three people.  As usual, if you do this, make sure all names are clearly displayed at the top of your submission, and all team members should submit the same GitHub URL.\n",
        "\n",
        "1. Use only basic Python code.  Do not use `numpy` arrays or functions.\n",
        "\n",
        "2. Practice utilizing the coding concepts we have studied.  \n",
        "\n",
        "3. Write docstrings for all your functions.\n",
        "\n"
      ]
    },
    {
      "cell_type": "markdown",
      "metadata": {
        "id": "qrWRyeI2NwHA"
      },
      "source": [
        "### Goal:  program this game\n",
        "In this assignment you will program a version of an old game called Bulls and Cows.  It is somewhat similar to Wordle, but with numbers instead of words (and various other differences . . . read carefully!).\n",
        "\n",
        "The game is played like this:  \n",
        "1. The computer will choose a secret code that the player is trying to guess.\n",
        "2. The secret code will be 4 digits long.  It will use only the digits 1-6, and it will have no repeated digits.  For example the secret code might be 1326 or 6241 but it cannot be 2652 or 4913 or 2601.\n",
        "3. The computer will prompt the user for a guess, and the user will guess.  The guess must follow the same rules (4 digits long, only use digits 1-6, no repeats).  The program should not allow an invalid guess.\n",
        "4. After each guess, the computer will give feedback to the user as follows:  \n",
        "(i) Each digit of the guess that is in the secret code and in the correct position is called a Bull (B).  \n",
        "(ii) Each digit of the guess that exists somewhere in the secret code, but *not* in the same position as in the guess, is called a Cow (C).  \n",
        "(iii) A digit of the guess that doesn't occur anywhere in the secret code is called a miss (X).  \n",
        "The computer will inform the user how many Bulls, how many Cows, and how many misses the user's guess had.  \n",
        "The feedback will always start with B's, then list C's, then list X's.  \n",
        "For example if the secret code is 1326  \n",
        "and the guess is 4316  \n",
        "then the computer should respond with \"BBCX\"  \n",
        "because there are two Bulls (the 3 and the 6 are Bulls, because they occur in the same position in the guess as in the secret code),  \n",
        "one Cow (the 1, which is a correct digit but in the wrong position),  \n",
        "and one Miss (the 4, which does not occur anywhere in the secret code).  \n",
        "> **Important:** the feedback string should always list the Bulls first, then the Cows, then the Misses.  It should **not** tell the user which digits are which!  The only information in the feedback string is how many of each there are.  In the example above, for instance, the feedback is **not** \"XBCB\" but rather \"BBCX\".  This is different from Wordle, if you are familiar with that game.\n",
        "5. The user should then be prompted for another guess.  This guess-with-feedback process should be repeated until the user gets the correct code, at which point the computer should indicate that they have won the game.  However, the user should only be allowed 6 guesses; if they don't guess correctly in 6 attempts, then following the feedback from their final guess they should get a message that they have lost the game, and the secret code should be revealed.\n",
        "\n",
        "\n",
        "\n",
        "\n",
        "\n",
        "\n",
        "\n"
      ]
    },
    {
      "cell_type": "markdown",
      "source": [
        "### Steps\n",
        "We will build this game using several functions.  \n",
        "\n",
        "1. **Count the Bulls:**  \n",
        "Write a function that takes two lists of the same length, and returns the number of Bulls.  That is, it should return the number of indices where the lists contain the same element.  *(Note:  you don't have to check that the entries are between 1 and 6, or that there are no repeats, etc.  A different function will do that.)*\n",
        "\n",
        "> A sample run might look like\n",
        "```\n",
        "first = [11, 3, 17, 5, 1]\n",
        "second = [20, 2, 17, 3, 1]\n",
        "count_bulls(first,second)\n",
        "```\n",
        "```\n",
        " 2\n",
        "```\n"
      ],
      "metadata": {
        "id": "XSH1JULaurD1"
      }
    },
    {
      "cell_type": "markdown",
      "source": [
        "Define your function in the code chunk below.  The function definition command and the return command are pre-populated for you.  You just have to fill in the part which does the actual counting.  I recommend using a list comprehension to do this.\n"
      ],
      "metadata": {
        "id": "pXoOyBk7xmPa"
      }
    },
    {
      "cell_type": "code",
      "source": [
        "# the Bull-counting function\n",
        "def count_bulls(first, second):\n",
        "  '''\n",
        "  Takes two lists of the same length and computes the number of positions where the list entries agree.\n",
        "  '''\n",
        "  num_bulls = 0\n",
        "  for number in second:\n",
        "    try:\n",
        "      if number == first[second.index(number)]:\n",
        "        num_bulls += 1\n",
        "      else:\n",
        "        num_bulls += 0\n",
        "    except:\n",
        "      num_bulls += 0\n",
        "  return num_bulls"
      ],
      "metadata": {
        "id": "vEsRSe8KxlcF"
      },
      "execution_count": 1,
      "outputs": []
    },
    {
      "cell_type": "markdown",
      "source": [
        "Add code and/or text chunks below to demonstrate that you have tested your code and that it works correctly."
      ],
      "metadata": {
        "id": "yACJyJtOzE2U"
      }
    },
    {
      "cell_type": "code",
      "source": [
        "list_one = [10, 12, 11, 5, 6]\n",
        "list_two = [9, 10, 14, 5, 6]\n",
        "count_bulls(list_one, list_two)"
      ],
      "metadata": {
        "id": "V5PgiDjOdw7X",
        "outputId": "937d8468-0faf-402b-9f2e-8016b0219cb1",
        "colab": {
          "base_uri": "https://localhost:8080/"
        }
      },
      "execution_count": 2,
      "outputs": [
        {
          "output_type": "execute_result",
          "data": {
            "text/plain": [
              "2"
            ]
          },
          "metadata": {},
          "execution_count": 2
        }
      ]
    },
    {
      "cell_type": "code",
      "source": [
        "first = [2, 6, 3, 5]\n",
        "second = [4, 5, 3, 1]\n",
        "count_bulls(first, second)"
      ],
      "metadata": {
        "id": "sVoyBllmdzsG",
        "outputId": "be67e4c8-c1b3-4f50-cbdb-8caebba207af",
        "colab": {
          "base_uri": "https://localhost:8080/"
        }
      },
      "execution_count": 36,
      "outputs": [
        {
          "output_type": "execute_result",
          "data": {
            "text/plain": [
              "1"
            ]
          },
          "metadata": {},
          "execution_count": 36
        }
      ]
    },
    {
      "cell_type": "markdown",
      "source": [
        "2. **Count something else:**  \n",
        "To count the cows it will be helpful first to count how many of the elements occur in both strings, without paying attention their positions.\n",
        "Write a function called `count_animals` that takes two lists of the same length, and returns the number of elements of the second list that are also in the first list.  (In the game setting, each such element is either a Bull or a Cow, but don't worry about which is which for this problem.)\n",
        "You may assume the lists do not contain repeated elements, since this will be the case when the function is called in the game.\n",
        "\n",
        "> This time a sample run might look like\n",
        "```\n",
        "first = [11, 3, 17, 5, 1]\n",
        "second = [20, 2, 17, 3, 1]\n",
        "count_animals(first,second)\n",
        "```\n",
        "```\n",
        " 3\n",
        "```\n",
        "\n",
        "This one isn't started for you.  Remember to include a docstring.  This can also be done using a list comprehension, similar to the previous function.\n",
        "\n"
      ],
      "metadata": {
        "id": "aMsOmejkzNVN"
      }
    },
    {
      "cell_type": "code",
      "source": [
        "# define your function here\n",
        "def count_animals(first, second):\n",
        "  '''\n",
        "  Takes two lists of the same length and returns the number of values that are contained in\n",
        "  both lists, regardless of where they occur in each list.\n",
        "  '''\n",
        "  num_animals = 0\n",
        "  for number in second:\n",
        "    try:\n",
        "      if number in first:\n",
        "        num_animals += 1\n",
        "      else:\n",
        "        num_animals += 0\n",
        "    except:\n",
        "      num_animals += 0\n",
        "  return num_animals"
      ],
      "metadata": {
        "id": "yRX219q02e6i"
      },
      "execution_count": 4,
      "outputs": []
    },
    {
      "cell_type": "markdown",
      "source": [
        "Again, demonstrate below that you have tested your code and that it works."
      ],
      "metadata": {
        "id": "HXRNwANS2f-4"
      }
    },
    {
      "cell_type": "code",
      "source": [
        "first_list = [2, 3, 4, 5, 8]\n",
        "second_list = [2, 4, 3, 9, 1]\n",
        "count_animals(first_list, second_list)"
      ],
      "metadata": {
        "id": "9nQDNF_vesBE",
        "outputId": "8c6c3203-e57a-48e4-b5b2-2825d703388f",
        "colab": {
          "base_uri": "https://localhost:8080/"
        }
      },
      "execution_count": 37,
      "outputs": [
        {
          "output_type": "execute_result",
          "data": {
            "text/plain": [
              "3"
            ]
          },
          "metadata": {},
          "execution_count": 37
        }
      ]
    },
    {
      "cell_type": "code",
      "source": [
        "firstlist = [3, 10, 49, 22]\n",
        "secondlist = [22, 11, 3, 20]\n",
        "count_animals(firstlist, secondlist)"
      ],
      "metadata": {
        "id": "sZ4ULkFne6lM",
        "outputId": "b399f6b0-7634-4de5-eed1-15a17d9a2b73",
        "colab": {
          "base_uri": "https://localhost:8080/"
        }
      },
      "execution_count": 38,
      "outputs": [
        {
          "output_type": "execute_result",
          "data": {
            "text/plain": [
              "2"
            ]
          },
          "metadata": {},
          "execution_count": 38
        }
      ]
    },
    {
      "cell_type": "markdown",
      "source": [
        "3. **Count the cows:**  \n",
        "Write a function called `count_cows` that counts the cows.  \n",
        "> This time a sample run might look like\n",
        "```\n",
        "first = [11, 3, 17, 5, 1]\n",
        "second = [20, 2, 17, 3, 1]\n",
        "count_cows(first,second)\n",
        "```\n",
        "```\n",
        " 1\n",
        "```\n",
        "*Use the two previously defined functions to help you!  \n",
        "In fact, remember that the only reason we wrote the `count_animals` function was to help count the cows.*\n",
        "\n",
        "You can do this with only two lines of code, not counting documentation!"
      ],
      "metadata": {
        "id": "x2DAPkxj2GMo"
      }
    },
    {
      "cell_type": "code",
      "source": [
        "# put the Cow counting function here\n",
        "def count_cows(first, second):\n",
        "  '''\n",
        "   Takes two lists of the same length and computes the number of values that occur in each\n",
        "   list that are not in the same position\n",
        "  '''\n",
        "  num_animals = count_animals(first, second)\n",
        "  num_bulls = count_bulls(first, second)\n",
        "  num_cows = num_animals - num_bulls\n",
        "  return num_cows\n"
      ],
      "metadata": {
        "id": "QnxnaOPI3YZO"
      },
      "execution_count": 39,
      "outputs": []
    },
    {
      "cell_type": "code",
      "source": [
        "first_list = [2, 3, 4, 5, 8]\n",
        "second_list = [2, 4, 3, 9, 1]\n",
        "count_cows(first_list, second_list)"
      ],
      "metadata": {
        "id": "P-2FR4kaf_KZ",
        "outputId": "9323993a-92bf-42be-de30-52eef8d5688b",
        "colab": {
          "base_uri": "https://localhost:8080/"
        }
      },
      "execution_count": 40,
      "outputs": [
        {
          "output_type": "execute_result",
          "data": {
            "text/plain": [
              "2"
            ]
          },
          "metadata": {},
          "execution_count": 40
        }
      ]
    },
    {
      "cell_type": "markdown",
      "metadata": {
        "id": "hWQhYDIVYjXr"
      },
      "source": [
        "4. **Create feedback string**  \n",
        "Write a `build_response_str` function that takes three numbers, say `b,c,l`, and outputs a string of total length `l` that consists of `b` B's, followed by `c` C's, and the rest X's (until the total length is `l`).\n",
        "\n",
        "> Sample run:\n",
        "```\n",
        "build_response_str(4,3,9)\n",
        "```\n",
        "```\n",
        "BBBBCCCXX\n",
        "```"
      ]
    },
    {
      "cell_type": "code",
      "source": [
        "# define your function here\n",
        "def build_response_str(num_b, num_c, list_length):\n",
        "  '''\n",
        "  Takes three numbers and returns a string the length of the third number that contains\n",
        "  the first number of Bs\n",
        "  '''\n",
        "  response_list = \"B\"*num_b + \"C\"*num_c + \"X\" * (list_length - num_b - num_c)\n",
        "  return response_list"
      ],
      "metadata": {
        "id": "GSimWqUsMaPE"
      },
      "execution_count": 9,
      "outputs": []
    },
    {
      "cell_type": "markdown",
      "source": [
        "Test your code here."
      ],
      "metadata": {
        "id": "2D14kxTU7ApH"
      }
    },
    {
      "cell_type": "code",
      "source": [
        "build_response_str(3, 5, 10)"
      ],
      "metadata": {
        "id": "H_aHFo-3kicz",
        "outputId": "0ef60382-d846-475f-cd4e-501ae1fab017",
        "colab": {
          "base_uri": "https://localhost:8080/",
          "height": 35
        }
      },
      "execution_count": 10,
      "outputs": [
        {
          "output_type": "execute_result",
          "data": {
            "text/plain": [
              "'BBBCCCCCXX'"
            ],
            "application/vnd.google.colaboratory.intrinsic+json": {
              "type": "string"
            }
          },
          "metadata": {},
          "execution_count": 10
        }
      ]
    },
    {
      "cell_type": "code",
      "source": [
        "build_response_str(2, 2, 5)"
      ],
      "metadata": {
        "id": "__sL7Xfwk4hx",
        "outputId": "ebd1ae0e-1ecc-4ea5-d3b0-d74bc989d33c",
        "colab": {
          "base_uri": "https://localhost:8080/",
          "height": 35
        }
      },
      "execution_count": 11,
      "outputs": [
        {
          "output_type": "execute_result",
          "data": {
            "text/plain": [
              "'BBCCX'"
            ],
            "application/vnd.google.colaboratory.intrinsic+json": {
              "type": "string"
            }
          },
          "metadata": {},
          "execution_count": 11
        }
      ]
    },
    {
      "cell_type": "markdown",
      "metadata": {
        "id": "omzE6sLKwsMC"
      },
      "source": [
        "5.  **Generate feedback for guesses**  \n",
        "Write a function `response(first,second)` that takes two lists of the same length, and outputs a string consisting of some number of B's followed by some number of C's followed by some number of X's, where the numbers correspond to the things we counted above.  That is, if `first` were the secret code in the game and `second` were the user's guess, then we would print one B for each Bull, one C for each Cow, and one X for each Miss. The total output string should have the same length as the input strings.\n",
        "\n",
        "> Sample run:\n",
        "```\n",
        "first = [11, 3, 17, 5, 1]\n",
        "second = [20, 2, 17, 3, 1]\n",
        "response(first,second)\n",
        "```\n",
        "```\n",
        " BBCXX\n",
        "```\n",
        "\n",
        "With all the functions you've already put in place, this should be simple.  Test your code once it's written.\n"
      ]
    },
    {
      "cell_type": "code",
      "source": [
        "def response(first, second):\n",
        "  '''\n",
        "  Takes two lists and returns a string that is the length of the two lists and contains\n",
        "  the number Bs corresponding to the number of instances in which the two strings have\n",
        "  the same value at the same position, the number of\n",
        "  '''\n",
        "  num_bulls = count_bulls(first, second)\n",
        "  num_cows = count_cows(first, second)\n",
        "  list_length = len(first)\n",
        "  feedback = build_response_str(num_bulls, num_cows, list_length)\n",
        "  return feedback"
      ],
      "metadata": {
        "id": "RD1qq7l783y5"
      },
      "execution_count": 12,
      "outputs": []
    },
    {
      "cell_type": "code",
      "source": [
        "first_list = [2, 3, 4, 5, 8]\n",
        "second_list = [2, 4, 3, 9, 1]\n",
        "response(first_list, second_list)"
      ],
      "metadata": {
        "id": "ph8aWJcCszhd",
        "outputId": "f645bf49-7c8c-4b12-f3c5-45761c09a7b4",
        "colab": {
          "base_uri": "https://localhost:8080/",
          "height": 35
        }
      },
      "execution_count": 13,
      "outputs": [
        {
          "output_type": "execute_result",
          "data": {
            "text/plain": [
              "'BCCXX'"
            ],
            "application/vnd.google.colaboratory.intrinsic+json": {
              "type": "string"
            }
          },
          "metadata": {},
          "execution_count": 13
        }
      ]
    },
    {
      "cell_type": "code",
      "source": [
        "firstlist = [3, 10, 49, 22]\n",
        "secondlist = [22, 11, 3, 20]\n",
        "response(firstlist, secondlist)"
      ],
      "metadata": {
        "id": "6U5HRHPos-qL",
        "outputId": "9b217938-53d4-42ee-c66d-784f6e7ae736",
        "colab": {
          "base_uri": "https://localhost:8080/",
          "height": 35
        }
      },
      "execution_count": 14,
      "outputs": [
        {
          "output_type": "execute_result",
          "data": {
            "text/plain": [
              "'CCXX'"
            ],
            "application/vnd.google.colaboratory.intrinsic+json": {
              "type": "string"
            }
          },
          "metadata": {},
          "execution_count": 14
        }
      ]
    },
    {
      "cell_type": "markdown",
      "metadata": {
        "id": "LWshNPjPZJdQ"
      },
      "source": [
        "6.  **Choose the secret code**  \n",
        "The `random` package, and specifically the `sample` sub-package, is useful for generating random samples.  Try running the following lines of code several times.\n",
        "\n"
      ]
    },
    {
      "cell_type": "code",
      "source": [
        "from random import sample\n",
        "\n",
        "sample(range(1,7),4)\n",
        "\n",
        "# the random.sample() function returns a list of unique values from the given range so we do not need to check for repeat digits in the computer-generated number"
      ],
      "metadata": {
        "id": "OzEZ5BQZ85jV",
        "outputId": "2475fb22-4d8b-459e-b4af-a87dd1053cd1",
        "colab": {
          "base_uri": "https://localhost:8080/"
        }
      },
      "execution_count": 15,
      "outputs": [
        {
          "output_type": "execute_result",
          "data": {
            "text/plain": [
              "[3, 5, 4, 2]"
            ]
          },
          "metadata": {},
          "execution_count": 15
        }
      ]
    },
    {
      "cell_type": "markdown",
      "source": [
        "What type of object is returned by the `sample` function?\n"
      ],
      "metadata": {
        "id": "N1BOe2Xd-kr4"
      }
    },
    {
      "cell_type": "code",
      "source": [
        "print(f\"The sample function returns a {type(sample(range(1,7),4))} object\")"
      ],
      "metadata": {
        "id": "U5AAu9sG-slX",
        "outputId": "d576b9e7-27d9-47a2-9d5c-8a023fcb0e4a",
        "colab": {
          "base_uri": "https://localhost:8080/"
        }
      },
      "execution_count": 16,
      "outputs": [
        {
          "output_type": "stream",
          "name": "stdout",
          "text": [
            "The sample function returns a <class 'list'> object\n"
          ]
        }
      ]
    },
    {
      "cell_type": "markdown",
      "source": [],
      "metadata": {
        "id": "yGZw8xFZ-uN4"
      }
    },
    {
      "cell_type": "markdown",
      "source": [
        "7. **Verify the guess**  \n",
        "Finish writing a function called `get_guess` (started below) to prompt the user for a guess and then make sure the input is valid according to the rules of the game.\n",
        "The prompt is already given.  Note that the `list` command converts the input into a list of characters so that it can be passed to the other functions (which are expecting lists).   \n",
        ">**Alert:  you will likely have to think more about data types before this is all over.**"
      ],
      "metadata": {
        "id": "mbK84TdIAVsO"
      }
    },
    {
      "cell_type": "code",
      "source": [
        "def get_guess():\n",
        "# Add code as needed to verify that the guess is legitimate.\n",
        "# Respond to an illegitimate guess with a message telling the user what the rules are\n",
        "# and asking to try again.\n",
        "  '''\n",
        "  Take a user input and verify that the input contains 4 integers between 1-6 with no repeated numbers\n",
        "  '''\n",
        "  while True:\n",
        "    # define/reset variables\n",
        "    right_length = False\n",
        "    guess_test = []\n",
        "    guess_list = []\n",
        "    numbers_between_one_and_six = 0\n",
        "    repeat_numbers = False\n",
        "    # protect code against inputs that are not integers\n",
        "    try:\n",
        "      # get user input\n",
        "      guess = list(input(\"Enter your guess:\"))\n",
        "      # turn inputs from strings into integers\n",
        "      for number in guess:\n",
        "        number_int = int(number)\n",
        "        guess_list.append(number_int)\n",
        "      # change right_length to True if the guess is 4 digits long\n",
        "      if len(guess_list) == 4:\n",
        "        right_length = True\n",
        "      # get a count of the input numbers that are between one and six\n",
        "      for number in guess_list:\n",
        "        if 1 <= number <= 6:\n",
        "          numbers_between_one_and_six += 1\n",
        "      # change repeat_numbers to True if any numbers are repeated\n",
        "      for number in guess_list:\n",
        "        if number in guess_test:\n",
        "          repeat_numbers = True\n",
        "          guess_test = []\n",
        "        else:\n",
        "          guess_test.append(number)\n",
        "      # break while loop if all conditions are met\n",
        "      if right_length == True and numbers_between_one_and_six == 4 and repeat_numbers == False:\n",
        "        break\n",
        "      # prompt input length error message if the input is not 4 digits long\n",
        "      elif right_length == False:\n",
        "        print(\"The guess must be an integer that is four digits long. Please try again.\")\n",
        "      # prompt the numbers not between one and six error message if all inputs are not between 1 and 6\n",
        "      elif numbers_between_one_and_six != 4:\n",
        "        print(\"All numbers in the guess must be between one and six. Please try again.\")\n",
        "      # prompt the repeat numbers error message if an input number is repeated\n",
        "      elif repeat_numbers == True:\n",
        "        print(\"Integers in the guess may not repeat. Please try again.\")\n",
        "    # Display input error message if guess is not all integers\n",
        "    except:\n",
        "      print(\"The guess must be a number that contains four digits between 1 and 6 with no repeated integers. Please try again.\")\n",
        "  return guess_list"
      ],
      "metadata": {
        "id": "HMJveAyt9tgZ"
      },
      "execution_count": 23,
      "outputs": []
    },
    {
      "cell_type": "markdown",
      "source": [
        "As usual, test your code.  What type of objects are we dealing with here?"
      ],
      "metadata": {
        "id": "PSPYpeZYONf0"
      }
    },
    {
      "cell_type": "code",
      "source": [
        "get_guess()"
      ],
      "metadata": {
        "id": "c9clt9POGV81",
        "outputId": "1fde4958-5dce-488f-e19d-59ce0ebb2f89",
        "colab": {
          "base_uri": "https://localhost:8080/"
        }
      },
      "execution_count": 24,
      "outputs": [
        {
          "name": "stdout",
          "output_type": "stream",
          "text": [
            "Enter your guess:1245\n"
          ]
        },
        {
          "output_type": "execute_result",
          "data": {
            "text/plain": [
              "[1, 2, 4, 5]"
            ]
          },
          "metadata": {},
          "execution_count": 24
        }
      ]
    },
    {
      "cell_type": "code",
      "source": [
        "get_guess()"
      ],
      "metadata": {
        "id": "xSjS68obGcIW",
        "outputId": "b7d11fa2-1464-49a4-aaba-9088acde3b0d",
        "colab": {
          "base_uri": "https://localhost:8080/"
        }
      },
      "execution_count": 25,
      "outputs": [
        {
          "name": "stdout",
          "output_type": "stream",
          "text": [
            "Enter your guess:12345\n",
            "The guess must be an integer that is four digits long. Please try again.\n",
            "Enter your guess:1123\n",
            "Integers in the guess may not repeat. Please try again.\n",
            "Enter your guess:1678\n",
            "All numbers in the guess must be between one and six. Please try again.\n",
            "Enter your guess:data science\n",
            "The guess must be a number that contains four digits between 1 and 6 with no repeated integers. Please try again.\n",
            "Enter your guess:1515\n",
            "Integers in the guess may not repeat. Please try again.\n",
            "Enter your guess:1818\n",
            "All numbers in the guess must be between one and six. Please try again.\n",
            "Enter your guess:3451\n"
          ]
        },
        {
          "output_type": "execute_result",
          "data": {
            "text/plain": [
              "[3, 4, 5, 1]"
            ]
          },
          "metadata": {},
          "execution_count": 25
        }
      ]
    },
    {
      "cell_type": "code",
      "source": [
        "print(\"The four errors that could occur with user input are the input being not 4 digits, the input containing repeat numbers, the input conatining numbers that are not between 1 and 6, and the input containing something that is not an integer.\")\n",
        "print(\"The original input is interpreted as a string object, so we had to convert the input into a list of integers.\")"
      ],
      "metadata": {
        "id": "M9zneeAqG0__",
        "outputId": "c47392f4-305c-4dae-d584-884b83d221da",
        "colab": {
          "base_uri": "https://localhost:8080/"
        }
      },
      "execution_count": 28,
      "outputs": [
        {
          "output_type": "stream",
          "name": "stdout",
          "text": [
            "The four errors that could occur with user input are the input being not 4 digits, the input containing repeat numbers, the input conatining numbers that are not between 1 and 6, and the input containing something that is not an integer.\n",
            "The original input is interpreted as a string object, so we had to convert the input into a list of integers.\n"
          ]
        }
      ]
    },
    {
      "cell_type": "markdown",
      "source": [
        "8. **Put it all together**  \n",
        "Finally, fill in the details of the function `bulls_cows` below so that it will play the game of Bulls and Cows when called.  Note that the function takes no arguments and returns nothing.\n"
      ],
      "metadata": {
        "id": "WdtvUrA4-uzn"
      }
    },
    {
      "cell_type": "code",
      "execution_count": 31,
      "metadata": {
        "id": "_u48oidGzRKX"
      },
      "outputs": [],
      "source": [
        "from random import sample\n",
        "\n",
        "def bulls_cows():\n",
        "  '''\n",
        "  This function plays the game \"Bulls and Cows.\"\n",
        "  It takes no arguments and returns nothing.\n",
        "  '''\n",
        "  # get the random code answer\n",
        "  code = sample(range(1,7),4)\n",
        "  # give the user six guesses to get the answer, prompting them with the appropriate feedback after each one\n",
        "  for i in range(6):\n",
        "    guess = get_guess()\n",
        "    if code == guess:\n",
        "      print(\"You guessed it!\")\n",
        "      return\n",
        "    print(response(code,guess))\n",
        "  print(f\"You have run out of guesses. The secret code was {code}.\")\n",
        "  return"
      ]
    },
    {
      "cell_type": "markdown",
      "source": [
        "Note: We interpreted the rule of 6 guesses as six valid guesses, so our code does not count an invalid guess as one of the 6 guesses. The code will only charge the player a guess when the guess meets all the rules of the game."
      ],
      "metadata": {
        "id": "V_3jVvMrL7AP"
      }
    },
    {
      "cell_type": "markdown",
      "metadata": {
        "id": "NzjqX_9K3OuV"
      },
      "source": [
        "Play the game a few times below.  Make sure it behaves as you think it should!"
      ]
    },
    {
      "cell_type": "code",
      "execution_count": 32,
      "metadata": {
        "id": "b-HELV-z3OuW",
        "outputId": "08d26d7e-3a4b-4a6d-8f37-4243c6714f70",
        "colab": {
          "base_uri": "https://localhost:8080/"
        }
      },
      "outputs": [
        {
          "output_type": "stream",
          "name": "stdout",
          "text": [
            "Enter your guess:1234\n",
            "BCCX\n",
            "Enter your guess:1325\n",
            "BCCX\n",
            "Enter your guess:1453\n",
            "CCCX\n",
            "Enter your guess:2134\n",
            "BBCX\n",
            "Enter your guess:2514\n",
            "BCCC\n",
            "Enter your guess:5124\n",
            "You guessed it!\n"
          ]
        }
      ],
      "source": [
        "bulls_cows()"
      ]
    },
    {
      "cell_type": "code",
      "source": [
        "bulls_cows()"
      ],
      "metadata": {
        "id": "inzOdtimDfGU",
        "outputId": "624505be-1496-45ad-f5c6-15326099d25c",
        "colab": {
          "base_uri": "https://localhost:8080/"
        }
      },
      "execution_count": 35,
      "outputs": [
        {
          "output_type": "stream",
          "name": "stdout",
          "text": [
            "Enter your guess:pencil\n",
            "The guess must be a number that contains four digits between 1 and 6 with no repeated integers. Please try again.\n",
            "Enter your guess:17782\n",
            "The guess must be an integer that is four digits long. Please try again.\n",
            "Enter your guess:8263\n",
            "All numbers in the guess must be between one and six. Please try again.\n",
            "Enter your guess:1127\n",
            "All numbers in the guess must be between one and six. Please try again.\n",
            "Enter your guess:1234\n",
            "CCXX\n",
            "Enter your guess:3456\n",
            "BCCX\n",
            "Enter your guess:5623\n",
            "BCCX\n",
            "Enter your guess:5361\n",
            "BBXX\n",
            "Enter your guess:5462\n",
            "You guessed it!\n"
          ]
        }
      ]
    },
    {
      "cell_type": "code",
      "source": [
        "bulls_cows()"
      ],
      "metadata": {
        "id": "Eqw-5laFDfkG",
        "outputId": "b6e42ff7-ffc3-406c-a3d9-49021ac5a0b5",
        "colab": {
          "base_uri": "https://localhost:8080/"
        }
      },
      "execution_count": 34,
      "outputs": [
        {
          "output_type": "stream",
          "name": "stdout",
          "text": [
            "Enter your guess:1234\n",
            "CCCX\n",
            "Enter your guess:1235\n",
            "CCCX\n",
            "Enter your guess:1236\n",
            "CCXX\n",
            "Enter your guess:5423\n",
            "BCCX\n",
            "Enter your guess:5341\n",
            "BCCX\n",
            "Enter your guess:5162\n",
            "CCCX\n",
            "You have run out of guesses. The secret code was [4, 5, 2, 1].\n"
          ]
        }
      ]
    },
    {
      "cell_type": "markdown",
      "source": [
        "9. **Reflect**  \n",
        "Think of at least three ways you could change the rules or setup of the game, and in each case describe (in one sentence, you don't need to write code) what you would have to do to modify your code to play the new version of the game.  Use a text box below for each of your ideas."
      ],
      "metadata": {
        "id": "a58-KCX4ELRO"
      }
    },
    {
      "cell_type": "markdown",
      "source": [
        "(1) We could expand the possible numbers to be between 0-9 instead of between 1-6. To do this, we would have to change the range of random numbers that the computer generates to (0,10), remove the part of get_guess() that checks whether each digit is between 1 and 6, and give the users more guesses (to make the game fair because now it is more difficult) by changing the definition of bulls_cows() to loop for i in range(10)."
      ],
      "metadata": {
        "id": "Jof2vIZSEfwo"
      }
    },
    {
      "cell_type": "markdown",
      "source": [
        "(2) We could make the number five digits instead of four. We would have to change the number of random numbers the computer generates for the code variable to be 5, the numers_between_one_and_six variable in get_guess() to be equal to 5 in the correct scenario, and change the right_length variable in get_guess() to be True when len(guess_list) == 5 instead of when len(guess_list) == 4."
      ],
      "metadata": {
        "id": "f2_QlBavEiqW"
      }
    },
    {
      "cell_type": "markdown",
      "source": [
        "(3) We could show the output of each guess to be a \"B\", \"C\", or \"X\" in the position of the corresponding guess instead of printing the \"B\"s first, \"C\"s second, and \"X\"s third. We would do this by changing the definition of build_response_str(num_b, num_c, list_length) to start with an empty list,  use a for loop to check to see whether each input was a bull, cow, or miss append the list with the corresponding \"B\", \"C\", or \"X\" for each input, convert this list into a string, and then return the string."
      ],
      "metadata": {
        "id": "sqfq2EFpEjZt"
      }
    }
  ],
  "metadata": {
    "colab": {
      "provenance": [],
      "include_colab_link": true
    },
    "kernelspec": {
      "display_name": "Python 3",
      "name": "python3"
    },
    "language_info": {
      "name": "python"
    }
  },
  "nbformat": 4,
  "nbformat_minor": 0
}