{
  "nbformat": 4,
  "nbformat_minor": 0,
  "metadata": {
    "colab": {
      "provenance": [],
      "include_colab_link": true
    },
    "kernelspec": {
      "name": "python3",
      "display_name": "Python 3"
    },
    "language_info": {
      "name": "python"
    }
  },
  "cells": [
    {
      "cell_type": "markdown",
      "metadata": {
        "id": "view-in-github",
        "colab_type": "text"
      },
      "source": [
        "<a href=\"https://colab.research.google.com/github/connor-keegan/Data-Science-1002/blob/main/Assignments/13_Classes.ipynb\" target=\"_parent\"><img src=\"https://colab.research.google.com/assets/colab-badge.svg\" alt=\"Open In Colab\"/></a>"
      ]
    },
    {
      "cell_type": "markdown",
      "source": [
        "## Assignment:  Classes\n",
        "### Due Sunday 28 April at 10pm"
      ],
      "metadata": {
        "id": "5Vy93BSp9Tum"
      }
    },
    {
      "cell_type": "markdown",
      "source": [
        "This assignment was completed by Zach Atlas and Connor Keegan"
      ],
      "metadata": {
        "id": "s-HR2KO_dQ2c"
      }
    },
    {
      "cell_type": "markdown",
      "source": [
        "1.  Define a class called `Person` that has attributes `lastName`, `firstName`, `mother`, and `father`.  Both `mother` and `father` should have default value `unknown`.\n",
        "\n",
        "  Include a `__str__()` function that returns a string of the form '`firstName` `lastName`'.\n",
        "\n",
        "  Include a `__repr__()` function that returns a string that can be evaluated to recreate the `Person` object.\n",
        "\n"
      ],
      "metadata": {
        "id": "vcj5XQAI9Wsb"
      }
    },
    {
      "cell_type": "code",
      "source": [
        "class Person:\n",
        "    def __init__(self, lastName, firstName, mother=\"unknown\", father=\"unknown\"):\n",
        "        self.lastName = lastName\n",
        "        self.firstName = firstName\n",
        "        self.mother = mother\n",
        "        self.father = father\n",
        "    def __str__(self):\n",
        "        return f\"{self.firstName} {self.lastName}\"\n",
        "    def __repr__(self):\n",
        "        return f\"Person({self.firstName}, {self.lastName}, {self.mother}, {self.father})\""
      ],
      "metadata": {
        "id": "mjHDwHv3EpVe"
      },
      "execution_count": 25,
      "outputs": []
    },
    {
      "cell_type": "markdown",
      "source": [
        "Create a person (i.e., a `Person` object) called `p` with unknown parents.  (You will need to give your person a first and last name.) Check the type of `p`.  Include all inputs and outputs."
      ],
      "metadata": {
        "id": "-ppMsEIVHINl"
      }
    },
    {
      "cell_type": "code",
      "source": [
        "p = Person(\"Bennett\", \"Tony\")\n",
        "print(f\"p: {str(p)}\")\n",
        "print(f\"type of p: {type(p)}\")\n"
      ],
      "metadata": {
        "id": "5bwid_6gHIBH",
        "colab": {
          "base_uri": "https://localhost:8080/"
        },
        "outputId": "888f298b-0fdd-4c78-ee93-9b53073ea1e0"
      },
      "execution_count": 26,
      "outputs": [
        {
          "output_type": "stream",
          "name": "stdout",
          "text": [
            "p: Tony Bennett\n",
            "type of p: <class '__main__.Person'>\n"
          ]
        }
      ]
    },
    {
      "cell_type": "markdown",
      "source": [
        "Verify that your `__str__` and `__repr__` functions are doing what they are supposed to do.  Include all inputs and outputs."
      ],
      "metadata": {
        "id": "Z6zlUC3xRtal"
      }
    },
    {
      "cell_type": "code",
      "source": [
        "print(f\"p__str__: {str(p)}\")\n",
        "print(f\"p__repr__: {repr(p)}\")"
      ],
      "metadata": {
        "id": "jZO0dBQYRs-K",
        "colab": {
          "base_uri": "https://localhost:8080/"
        },
        "outputId": "18bb9b68-0c1d-432b-af89-d716425a1756"
      },
      "execution_count": 27,
      "outputs": [
        {
          "output_type": "stream",
          "name": "stdout",
          "text": [
            "p__str__: Tony Bennett\n",
            "p__repr__: Person(Tony, Bennett, unknown, unknown)\n"
          ]
        }
      ]
    },
    {
      "cell_type": "markdown",
      "source": [
        "Suppose the mother of `p` has been found and is named Taylor Swift.  Create a new person named Taylor Swift, and make her the mother of `p`:\n",
        "\n",
        "```\n",
        "> p.mother\n",
        "'Taylor Swift'\n",
        "```"
      ],
      "metadata": {
        "id": "1mOAThQiHzoQ"
      }
    },
    {
      "cell_type": "code",
      "source": [
        "p2 = Person(\"Swift\", \"Taylor\")\n",
        "print(f\"p2__repr__: {repr(p2)}\")\n",
        "p.mother = p2\n",
        "print(f\"p__repr__ with p2 as mother: {repr(p)}\")"
      ],
      "metadata": {
        "id": "NYbDOorpHymz",
        "colab": {
          "base_uri": "https://localhost:8080/"
        },
        "outputId": "de42aabc-45e9-47c9-e038-6f65f538dc80"
      },
      "execution_count": 28,
      "outputs": [
        {
          "output_type": "stream",
          "name": "stdout",
          "text": [
            "p2__repr__: Person(Taylor, Swift, unknown, unknown)\n",
            "p__repr__ with p2 as mother: Person(Tony, Bennett, Taylor Swift, unknown)\n"
          ]
        }
      ]
    },
    {
      "cell_type": "markdown",
      "source": [
        "2.  Add some methods to your class.  Start by copying the `class` definition you already wrote.  Then, inside the `class` definition:\n",
        "\n",
        "  (a) Write a method called `unknownParent()` which returns `True` if any parent is 'unknown' and `False` otherwise.\n",
        "\n",
        "  (b) Write a method called `maternalGrandmother()` which returns the mother's mother.  If the mother is unknown, it should return 'unknown'.\n",
        "\n"
      ],
      "metadata": {
        "id": "1g1pcrmFHzGh"
      }
    },
    {
      "cell_type": "code",
      "source": [
        "class Person:\n",
        "    def __init__(self, lastName, firstName, mother=\"unknown\", father=\"unknown\"):\n",
        "        self.lastName = lastName\n",
        "        self.firstName = firstName\n",
        "        self.mother = mother\n",
        "        self.father = father\n",
        "    def __str__(self):\n",
        "        return f\"{self.firstName} {self.lastName}\"\n",
        "    def __repr__(self):\n",
        "        return f\"Person({self.firstName}, {self.lastName}, {self.mother}, {self.father})\"\n",
        "    def unknownParent(self):\n",
        "      if self.mother == \"unknown\" or self.father == \"unknown\":\n",
        "        return True\n",
        "      else:\n",
        "        return False\n",
        "    def maternalGrandmother(self):\n",
        "      if self.mother == \"unknown\":\n",
        "        return \"unknown\"\n",
        "      else:\n",
        "        return self.mother.mother"
      ],
      "metadata": {
        "id": "7mIxJGwwKTpv"
      },
      "execution_count": 34,
      "outputs": []
    },
    {
      "cell_type": "markdown",
      "source": [
        "Create enough `Person` objects to test whether your methods are working properly.  Show all your inputs and outputs.  It is up to you to demonstrate that you have thoroughly tested the code.  You may use additional code and/or text chunks if it helps."
      ],
      "metadata": {
        "id": "l9-4gxd8FxAQ"
      }
    },
    {
      "cell_type": "code",
      "source": [
        "# Create all people\n",
        "Connor = Person(\"Keegan\", \"Connor\")\n",
        "Connor_mother = Person(\"Keegan\", \"Elise\")\n",
        "Connor_father = Person(\"Keegan\", \"Michael\")\n",
        "Connor_maternalGrandmother = Person(\"Charbonnet\", \"Helen\")\n",
        "Connor_paternalGrandfather = Person(\"Keegan\", \"John\")\n",
        "print(f\"Connor: {str(Connor)}, Connor's Mother: {str(Connor_mother)}, Connor's Father: {str(Connor_father)}, Connor's Maternal Grandmother: {str(Connor_maternalGrandmother)}, Connor's Paternal Grandfather: {str(Connor_paternalGrandfather)}\")\n",
        "# Build the family tree\n",
        "Connor.mother = Connor_mother\n",
        "Connor.father = Connor_father\n",
        "Connor_mother.mother = Connor_maternalGrandmother\n",
        "Connor_father.father = Connor_paternalGrandfather\n",
        "print(f\"Connor with parents added: {repr(Connor)}\")\n",
        "print(f\"Connor's mother with her mother added: {repr(Connor_mother)}\")\n",
        "print(f\"Connor father with his father added: {repr(Connor_father)}\")\n",
        "# Check that unknownParent() works properly\n",
        "print(f\"Verify that unknownParent() for Connor returns False: {Connor.unknownParent()}\")\n",
        "print(f\"Verfiy that unknownParent() for Connor's mother (who has only a mother defined) returns True: {Connor_mother.unknownParent()}\")\n",
        "print(f\"Verifty that unknownParent() for Connor's father (who has only a father defined) returns True: {Connor_father.unknownParent()}\")\n",
        "print(f\"Verify that unknownParent() for Connor's maternal grandmother (who has no defined parents) returns True: {Connor_maternalGrandmother.unknownParent()}\")\n",
        "# Check that maternalGrandmother() works properly\n",
        "print(f\"Verify that maternalGrandmother() returns 'Helen Chabonnet' for Connor: {Connor.maternalGrandmother()}\")\n",
        "print(f\"Verify that maternalGrandmother() returns 'unknown' for Connor's Mother (who has a defined mother but no defined grandmother(): {Connor_mother.maternalGrandmother()}\")\n",
        "print(f\"Verify that maternalGrandmother() returns 'unknown' for Connor's Father (who has no defined mother): {Connor_father.maternalGrandmother()}\")"
      ],
      "metadata": {
        "id": "gX1qpcKzFwoZ",
        "colab": {
          "base_uri": "https://localhost:8080/"
        },
        "outputId": "be747d59-43a4-473e-8bcd-c11dc873ad14"
      },
      "execution_count": 36,
      "outputs": [
        {
          "output_type": "stream",
          "name": "stdout",
          "text": [
            "Connor: Connor Keegan, Connor's Mother: Elise Keegan, Connor's Father: Michael Keegan, Connor's Maternal Grandmother: Helen Charbonnet, Connor's Paternal Grandfather: John Keegan\n",
            "Connor with parents added: Person(Connor, Keegan, Elise Keegan, Michael Keegan)\n",
            "Connor's mother with her mother added: Person(Elise, Keegan, Helen Charbonnet, unknown)\n",
            "Connor father with his father added: Person(Michael, Keegan, unknown, John Keegan)\n",
            "Verify that unknownParent() for Connor returns False: False\n",
            "Verfiy that unknownParent() for Connor's mother (who has only a mother defined) returns True: True\n",
            "Verifty that unknownParent() for Connor's father (who has only a father defined) returns True: True\n",
            "Verify that unknownParent() for Connor's maternal grandmother (who has no defined parents) returns True: True\n",
            "Verify that maternalGrandmother() returns 'Helen Chabonnet' for Connor: Helen Charbonnet\n",
            "Verify that maternalGrandmother() returns 'unknown' for Connor's Mother (who has a defined mother but no defined grandmother(): unknown\n",
            "Verify that maternalGrandmother() returns 'unknown' for Connor's Father (who has no defined mother): unknown\n"
          ]
        }
      ]
    }
  ]
}