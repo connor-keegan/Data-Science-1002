{
  "nbformat": 4,
  "nbformat_minor": 0,
  "metadata": {
    "colab": {
      "provenance": [],
      "include_colab_link": true
    },
    "kernelspec": {
      "name": "python3",
      "display_name": "Python 3"
    },
    "language_info": {
      "name": "python"
    }
  },
  "cells": [
    {
      "cell_type": "markdown",
      "metadata": {
        "id": "view-in-github",
        "colab_type": "text"
      },
      "source": [
        "<a href=\"https://colab.research.google.com/github/connor-keegan/Data-Science-1002/blob/main/Assignments/11_comprehension_and_recursion.ipynb\" target=\"_parent\"><img src=\"https://colab.research.google.com/assets/colab-badge.svg\" alt=\"Open In Colab\"/></a>"
      ]
    },
    {
      "cell_type": "markdown",
      "source": [
        "This assignment was completed by Zach Atlas and Connor Keegan"
      ],
      "metadata": {
        "id": "rKayOulO8AVW"
      }
    },
    {
      "cell_type": "markdown",
      "source": [
        "## Assignment 11\n",
        "Due Monday 15 April at noon"
      ],
      "metadata": {
        "id": "y6mGkyWrqph3"
      }
    },
    {
      "cell_type": "markdown",
      "source": [
        "### List comprehension\n",
        "\n",
        "Many of you resisted my recommendation to use list comprehensions in the previous assignment, and so my hand is forced.  You made me require it.\n",
        "\n",
        "\n",
        "Problem 1.  For each function you write below, you may assume the list being sent to the function will contain the appropriate data type.\n",
        "\n",
        "Use list comprehensions to create a function that will take a list `l` and return . . ."
      ],
      "metadata": {
        "id": "eBJulsWBngse"
      }
    },
    {
      "cell_type": "markdown",
      "source": [
        "(a) . . . a list containing the absolute value of each element of `l`"
      ],
      "metadata": {
        "id": "1h4hKDEqo5T_"
      }
    },
    {
      "cell_type": "code",
      "source": [
        "def abs_val(l):\n",
        "  abs_list = [abs(number) for number in l]\n",
        "  return abs_list\n",
        "l = [11, -4, -5, 45.4]\n",
        "abs_val(l)\n"
      ],
      "metadata": {
        "id": "LNltsHhtngLS",
        "outputId": "7d4437c9-9aff-45d3-d0ec-265d64aa28ab",
        "colab": {
          "base_uri": "https://localhost:8080/"
        }
      },
      "execution_count": 61,
      "outputs": [
        {
          "output_type": "execute_result",
          "data": {
            "text/plain": [
              "[11, 4, 5, 45.4]"
            ]
          },
          "metadata": {},
          "execution_count": 61
        }
      ]
    },
    {
      "cell_type": "markdown",
      "source": [],
      "metadata": {
        "id": "4v3E9RizK5Fj"
      }
    },
    {
      "cell_type": "markdown",
      "source": [
        "(b) . . . a list containing `True` for each even number in `l` and `False` for each odd number in `l`"
      ],
      "metadata": {
        "id": "mqIbzaTvpLCV"
      }
    },
    {
      "cell_type": "code",
      "source": [
        "def even_odd(l):\n",
        "  even_odd_list = [number % 2 == 0 for number in l]\n",
        "  return even_odd_list\n",
        "l = [4, 7, -89, -88]\n",
        "even_odd(l)"
      ],
      "metadata": {
        "id": "0OTpQFX9pK0t",
        "outputId": "4eba89a7-af2f-4445-898a-c9b47c649b3e",
        "colab": {
          "base_uri": "https://localhost:8080/"
        }
      },
      "execution_count": 55,
      "outputs": [
        {
          "output_type": "execute_result",
          "data": {
            "text/plain": [
              "[True, False, False, True]"
            ]
          },
          "metadata": {},
          "execution_count": 55
        }
      ]
    },
    {
      "cell_type": "markdown",
      "source": [
        "(c) . . . a list containing only the numbers in `l` that are divisible by 3"
      ],
      "metadata": {
        "id": "9yqVg2hApUY9"
      }
    },
    {
      "cell_type": "code",
      "source": [
        "def three_divisible(l):\n",
        "  three_list = [number for number in l if number % 3 == 0]\n",
        "  return three_list\n",
        "l = [10, 39, 32, 111, 3]\n",
        "three_divisible(l)"
      ],
      "metadata": {
        "id": "2mP_1aYZpUF4",
        "outputId": "bf7d457a-148d-438c-b3aa-d2b65c2af7f0",
        "colab": {
          "base_uri": "https://localhost:8080/"
        }
      },
      "execution_count": 56,
      "outputs": [
        {
          "output_type": "execute_result",
          "data": {
            "text/plain": [
              "[39, 111, 3]"
            ]
          },
          "metadata": {},
          "execution_count": 56
        }
      ]
    },
    {
      "cell_type": "markdown",
      "source": [
        "(d) . . . a list containing only the words in `l` whose first and last letters are the same"
      ],
      "metadata": {
        "id": "2yClgYZupef1"
      }
    },
    {
      "cell_type": "code",
      "source": [
        "def start_end(l):\n",
        "  same_words = [word for word in l if word[0] == word[len(word) - 1]]\n",
        "  return same_words\n",
        "l = [\"wow\", \"dog\", \"barn\", \"cow\", \"starts\"]\n",
        "start_end(l)"
      ],
      "metadata": {
        "id": "-l7XnemMpeCi",
        "outputId": "18c67bc9-bcdd-4221-c661-f509b04cf1ef",
        "colab": {
          "base_uri": "https://localhost:8080/"
        }
      },
      "execution_count": 57,
      "outputs": [
        {
          "output_type": "execute_result",
          "data": {
            "text/plain": [
              "['wow', 'starts']"
            ]
          },
          "metadata": {},
          "execution_count": 57
        }
      ]
    },
    {
      "cell_type": "markdown",
      "source": [
        "(e) . . . a list containing the first letter of each word in `l` that ends with a vowel"
      ],
      "metadata": {
        "id": "1mqMysFKppZS"
      }
    },
    {
      "cell_type": "code",
      "source": [
        "def end_vowel(l):\n",
        "  vowel_list = [word[0] for word in l if word[len(word) - 1] in [\"a\", \"e\", \"i\", \"o\", \"u\"]]\n",
        "  return vowel_list\n",
        "l = [\"banana\", \"apple\", \"seed\", \"pie\", \"run\"]\n",
        "end_vowel(l)\n"
      ],
      "metadata": {
        "id": "1Gi3andbppDc",
        "outputId": "2bf8f114-6b6d-42c7-f463-9e1399c72c8f",
        "colab": {
          "base_uri": "https://localhost:8080/"
        }
      },
      "execution_count": 58,
      "outputs": [
        {
          "output_type": "execute_result",
          "data": {
            "text/plain": [
              "['b', 'a', 'p']"
            ]
          },
          "metadata": {},
          "execution_count": 58
        }
      ]
    },
    {
      "cell_type": "markdown",
      "source": [
        "### Multiplication as a recursive process\n",
        "Problem 2.  Write a recursive function that computes the product of two positive integers `a` and `b` by adding `a` to itself `b` times.\n",
        "\n",
        "Hints:  \n",
        "1. if `b=1` then the product is `a`.\n",
        "2. if `b>1` then the product is what you get by adding `a` to `a * (b-1)`.\n",
        "\n",
        "Note:  the purpose of this exercise is to practice writing recursive functions.  Of course you can trivially ask for `a*b` and get the correct answer but that is worth no points.  Your function should not use any multiplications.\n"
      ],
      "metadata": {
        "id": "iV4ysawxjsiE"
      }
    },
    {
      "cell_type": "code",
      "execution_count": 59,
      "metadata": {
        "id": "wc9Y1d7ejrvH",
        "outputId": "9e3122f3-d6a4-46e1-9aef-aeb0063b7bef",
        "colab": {
          "base_uri": "https://localhost:8080/"
        }
      },
      "outputs": [
        {
          "output_type": "execute_result",
          "data": {
            "text/plain": [
              "36"
            ]
          },
          "metadata": {},
          "execution_count": 59
        }
      ],
      "source": [
        "def multiply(a, b):\n",
        "  if a == 0 or b == 0:\n",
        "    return 0\n",
        "  elif b == 1:\n",
        "    return a\n",
        "  elif b > 1:\n",
        "    return a + multiply(a, b - 1)\n",
        "multiply(12,3)"
      ]
    },
    {
      "cell_type": "markdown",
      "source": [
        "### Division as a recursive process\n",
        "\n",
        "Problem 3:  Write a recursive function that takes two positive integers `a` and `b` and returns the quotient `q` and remainder `r` obtained when `a` is divided by `b`.\n",
        "\n",
        "Hints:  \n",
        "1. If `a<b` then what should `q` and `r` be?\n",
        "\n",
        "2. If `a>b` then think about how `q` and `r` are related to the values you would get from dividing `a-b` by `b`."
      ],
      "metadata": {
        "id": "A5xI1LxDkxn0"
      }
    },
    {
      "cell_type": "code",
      "source": [
        "def division(a,b, q=0, r=0):\n",
        "  if a < b:\n",
        "    r = a\n",
        "    return q, r\n",
        "  elif a > b:\n",
        "    q, r = division(a-b,b)\n",
        "    q += 1\n",
        "    return q, r\n",
        "  else:\n",
        "    return 1, 0\n",
        "q,r = division(14,3)\n",
        "print(f\"q = {q} \\n r = {r}\")"
      ],
      "metadata": {
        "id": "4Eyp8z_8HbzR",
        "outputId": "9f89de74-a3e3-44bf-e836-6489fe230f18",
        "colab": {
          "base_uri": "https://localhost:8080/"
        }
      },
      "execution_count": 60,
      "outputs": [
        {
          "output_type": "stream",
          "name": "stdout",
          "text": [
            "q = 4 \n",
            " r = 2\n"
          ]
        }
      ]
    },
    {
      "cell_type": "markdown",
      "source": [
        "### The dot product of two vectors\n",
        "\n",
        "Problem 4.  Write a recursive function `dot()` that takes two lists of numbers, of equal length, and returns the sum of the products of the elements of the same index from each list. For example, if `V=[1,2,3]` and `W=[4,5,6]` then the function should return the value $(1 \\cdot 4) + (2\\cdot 5) + (3\\cdot 6)$, which equals 32.  In physics and linear algebra, this is called the \"dot product\" of the vectors `V` and `W`.\n",
        "\n",
        "Other examples:\n",
        "```\n",
        "dot([3],[4])\n",
        "12\n",
        "\n",
        "dot([1,1,0],[2,7,17])\n",
        "9\n",
        "```\n",
        "Hints:\n",
        "1. How is `dot(V,W)` related to `dot(V[1:],W[1:])`?\n",
        "2. What should happen if the lists are empty?"
      ],
      "metadata": {
        "id": "OkBK7gvglJ3u"
      }
    },
    {
      "cell_type": "code",
      "source": [
        "def dot(V,W):\n",
        "  if V == [] or W == []:\n",
        "    return 0\n",
        "  else:\n",
        "    return (V[0] * W[0]) + dot(V[1:],W[1:])\n",
        "V = [2, 3, 4, 2]\n",
        "W = [1, 2, 3, 4]\n",
        "dot(V,W)"
      ],
      "metadata": {
        "id": "LZXs6lkslJqm",
        "outputId": "715e7e67-a7f3-4473-d7da-670adb60ec26",
        "colab": {
          "base_uri": "https://localhost:8080/"
        }
      },
      "execution_count": 39,
      "outputs": [
        {
          "output_type": "execute_result",
          "data": {
            "text/plain": [
              "28"
            ]
          },
          "metadata": {},
          "execution_count": 39
        }
      ]
    }
  ]
}