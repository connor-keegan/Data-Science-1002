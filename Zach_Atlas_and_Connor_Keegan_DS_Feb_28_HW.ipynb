{
  "nbformat": 4,
  "nbformat_minor": 0,
  "metadata": {
    "colab": {
      "provenance": [],
      "authorship_tag": "ABX9TyP/aemlba7fHVn61y60aht8",
      "include_colab_link": true
    },
    "kernelspec": {
      "name": "python3",
      "display_name": "Python 3"
    },
    "language_info": {
      "name": "python"
    }
  },
  "cells": [
    {
      "cell_type": "markdown",
      "metadata": {
        "id": "view-in-github",
        "colab_type": "text"
      },
      "source": [
        "<a href=\"https://colab.research.google.com/github/connor-keegan/Data-Science-1002/blob/main/Zach_Atlas_and_Connor_Keegan_DS_Feb_28_HW.ipynb\" target=\"_parent\"><img src=\"https://colab.research.google.com/assets/colab-badge.svg\" alt=\"Open In Colab\"/></a>"
      ]
    },
    {
      "cell_type": "markdown",
      "source": [
        "This homework was completed by Zach Atlas and Connor Keegan"
      ],
      "metadata": {
        "id": "chpj1nHRsdVo"
      }
    },
    {
      "cell_type": "markdown",
      "source": [
        "For each question we separated our code into which part of the question it was answering, since there were multiple parts to some questions."
      ],
      "metadata": {
        "id": "3zBhY8FZ4eDY"
      }
    },
    {
      "cell_type": "code",
      "execution_count": 1,
      "metadata": {
        "colab": {
          "base_uri": "https://localhost:8080/"
        },
        "id": "ZPIX28A2sXvF",
        "outputId": "07b795b1-0203-42b1-c243-4cd7f9c5d194"
      },
      "outputs": [
        {
          "output_type": "stream",
          "name": "stdout",
          "text": [
            "Collecting english_words\n",
            "  Downloading english-words-2.0.1.tar.gz (8.2 MB)\n",
            "\u001b[2K     \u001b[90m━━━━━━━━━━━━━━━━━━━━━━━━━━━━━━━━━━━━━━━━\u001b[0m \u001b[32m8.2/8.2 MB\u001b[0m \u001b[31m26.8 MB/s\u001b[0m eta \u001b[36m0:00:00\u001b[0m\n",
            "\u001b[?25h  Installing build dependencies ... \u001b[?25l\u001b[?25hdone\n",
            "  Getting requirements to build wheel ... \u001b[?25l\u001b[?25hdone\n",
            "  Preparing metadata (pyproject.toml) ... \u001b[?25l\u001b[?25hdone\n",
            "Building wheels for collected packages: english_words\n",
            "  Building wheel for english_words (pyproject.toml) ... \u001b[?25l\u001b[?25hdone\n",
            "  Created wheel for english_words: filename=english_words-2.0.1-py3-none-any.whl size=8196238 sha256=3a1d756c7eccf80213320aeb41f30247f2e424d1a215092bd1fdac3603008fad\n",
            "  Stored in directory: /root/.cache/pip/wheels/f0/e6/d9/16a123647999fe535f03a36e7af23eef203736d84c7ca25b0b\n",
            "Successfully built english_words\n",
            "Installing collected packages: english_words\n",
            "Successfully installed english_words-2.0.1\n"
          ]
        }
      ],
      "source": [
        "!pip install english_words\n",
        "from english_words import get_english_words_set\n",
        "words = get_english_words_set(['web2'], lower=True)"
      ]
    },
    {
      "cell_type": "code",
      "source": [
        "#1\n",
        "# What is the data type of words\n",
        "print(f\"The variable words is the type {type(words)}\")\n",
        "\n",
        "# Convert it to a list called wordlist\n",
        "wordlist = list(words)\n",
        "\n",
        "# How long is wordlist\n",
        "print(f\"wordlist has a length of {len(wordlist)}\")"
      ],
      "metadata": {
        "colab": {
          "base_uri": "https://localhost:8080/"
        },
        "id": "67BzNTn2sk-y",
        "outputId": "af333288-b338-454c-a5d6-e6ddac5fc11d"
      },
      "execution_count": 35,
      "outputs": [
        {
          "output_type": "stream",
          "name": "stdout",
          "text": [
            "The variable words is the type <class 'set'>\n",
            "wordlist has a length of 234450\n"
          ]
        }
      ]
    },
    {
      "cell_type": "code",
      "source": [
        "#2\n",
        "# Print out the first ten words of wordlist\n",
        "print(f\"The first ten words of wordlist are {wordlist[0], wordlist[1], wordlist[2], wordlist[3], wordlist[4], wordlist[5], wordlist[6], wordlist[7], wordlist[8], wordlist[9]}\")\n",
        "\n",
        "# What do you notice\n",
        "print(\"We notice that a lot of these words are not commonly used words in everyday English, if they are even words at all, as we have not heard of 7 out of the 10 of them\")"
      ],
      "metadata": {
        "colab": {
          "base_uri": "https://localhost:8080/"
        },
        "id": "u_9uStX7sm7r",
        "outputId": "b4742cd6-1ab0-4ff5-c301-5895c131c787"
      },
      "execution_count": 36,
      "outputs": [
        {
          "output_type": "stream",
          "name": "stdout",
          "text": [
            "The first ten words of wordlist are ('hermaphroditize', 'unagreeably', 'hydrically', 'vicariateship', 'underhold', 'tamise', 'tounatea', 'kiyi', 'squared', 'bundler')\n",
            "We notice that a lot of these words are not commonly used words in everyday English, if they are even words at all, as we have not heard of 7 out of the 10 of them\n"
          ]
        }
      ]
    },
    {
      "cell_type": "code",
      "source": [
        "#3\n",
        "# Make a list called alpha_list containing all the same words as the wordlist, but in alphabetical order\n",
        "alpha_list = sorted(wordlist)\n",
        "\n",
        "# Print out the first ten words in alpha_list\n",
        "print(f\"The first ten words of the alpha_list are {alpha_list[0], alpha_list[1], alpha_list[2], alpha_list[3], alpha_list[4], alpha_list[5], alpha_list[6], alpha_list[7], alpha_list[8], alpha_list[9]}\")"
      ],
      "metadata": {
        "colab": {
          "base_uri": "https://localhost:8080/"
        },
        "id": "u82ajcfdt1jz",
        "outputId": "9eae63d5-a524-43cf-e6fa-af88f965da45"
      },
      "execution_count": 37,
      "outputs": [
        {
          "output_type": "stream",
          "name": "stdout",
          "text": [
            "The first ten words of the alpha_list are ('a', 'aa', 'aal', 'aalii', 'aam', 'aani', 'aardvark', 'aardwolf', 'aaron', 'aaronic')\n"
          ]
        }
      ]
    },
    {
      "cell_type": "code",
      "source": [
        "#4\n",
        "# How many words start with a\n",
        "a_words = 0\n",
        "for word in alpha_list:\n",
        "  if word.startswith(\"a\") == True:\n",
        "    a_words += 1\n",
        "  else:\n",
        "    a_words += 0\n",
        "print(f\"There are {a_words} words in alpha_list that start with the letter a.\")"
      ],
      "metadata": {
        "colab": {
          "base_uri": "https://localhost:8080/"
        },
        "id": "aoMyl1uXt8gW",
        "outputId": "9d247c92-cdf6-434e-de1c-ceabce03f552"
      },
      "execution_count": 38,
      "outputs": [
        {
          "output_type": "stream",
          "name": "stdout",
          "text": [
            "There are 16982 words in alpha_list that start with the letter a.\n"
          ]
        }
      ]
    },
    {
      "cell_type": "code",
      "source": [
        "#5\n",
        "# How many words have q in them\n",
        "q_words = 0\n",
        "for word in alpha_list:\n",
        "  if \"q\" in word:\n",
        "    q_words += 1\n",
        "  else:\n",
        "    q_words += 0\n",
        "print(f\"There are {q_words} words in alpha_list that contain the letter q.\")\n",
        "\n",
        "# What fraction of the words do not have e\n",
        "e_words = 0\n",
        "for word in alpha_list:\n",
        "  if \"e\" in word:\n",
        "    e_words += 1\n",
        "  else:\n",
        "    e_words += 0\n",
        "words_without_e = len(alpha_list) - e_words\n",
        "print(f\"The fraction of words in the list that do not contain the letter e is {words_without_e}/{len(alpha_list)}.\")"
      ],
      "metadata": {
        "colab": {
          "base_uri": "https://localhost:8080/"
        },
        "id": "44Jjw615t_hQ",
        "outputId": "aeb34b86-aa98-4875-c322-d1616f239f06"
      },
      "execution_count": 39,
      "outputs": [
        {
          "output_type": "stream",
          "name": "stdout",
          "text": [
            "There are 3624 words in alpha_list that contain the letter q.\n",
            "The fraction of words in the list that do not contain the letter e is 76966/234450.\n"
          ]
        }
      ]
    },
    {
      "cell_type": "code",
      "source": [
        "#6\n",
        "import numpy as np\n",
        "\n",
        "# Convert your lists to numpy arrays\n",
        "word_list_array = np.array(wordlist)\n",
        "alpha_list_array = np.array(alpha_list)\n",
        "\n",
        "# Execute the following code\n",
        "alphabet = [chr(i) for i in range(ord('a'),ord('z')+1)]\n",
        "\n",
        "# What does this do\n",
        "print(\"This creates a list containing the 26 letters of the alphabet in order and assigns it to the variable alphabet\")"
      ],
      "metadata": {
        "colab": {
          "base_uri": "https://localhost:8080/"
        },
        "id": "Vq6nzW0puCAa",
        "outputId": "655a5e5c-564b-4d0d-f7a9-95c7a3aa01e3"
      },
      "execution_count": 40,
      "outputs": [
        {
          "output_type": "stream",
          "name": "stdout",
          "text": [
            "This creates a list containing the 26 letters of the alphabet in order and assigns it to the variable alphabet\n"
          ]
        }
      ]
    },
    {
      "cell_type": "code",
      "source": [
        "#7\n",
        "import matplotlib.pyplot as plt\n",
        "\n",
        "# Get the number of words that start with each letter\n",
        "a = 0\n",
        "b = 0\n",
        "c = 0\n",
        "d = 0\n",
        "e = 0\n",
        "f = 0\n",
        "g = 0\n",
        "h = 0\n",
        "i = 0\n",
        "j = 0\n",
        "k = 0\n",
        "l = 0\n",
        "m = 0\n",
        "n = 0\n",
        "o = 0\n",
        "p = 0\n",
        "q = 0\n",
        "r = 0\n",
        "s = 0\n",
        "t = 0\n",
        "u = 0\n",
        "v = 0\n",
        "w = 0\n",
        "x = 0\n",
        "y = 0\n",
        "z = 0\n",
        "for word in alpha_list:\n",
        "  if word.startswith(\"a\") == True:\n",
        "    a += 1\n",
        "  elif word.startswith(\"b\") == True:\n",
        "    b += 1\n",
        "  elif word.startswith(\"c\") == True:\n",
        "    c += 1\n",
        "  elif word.startswith(\"d\") == True:\n",
        "    d += 1\n",
        "  elif word.startswith(\"e\") == True:\n",
        "    e += 1\n",
        "  elif word.startswith(\"f\") == True:\n",
        "    f += 1\n",
        "  elif word.startswith(\"g\") == True:\n",
        "    g += 1\n",
        "  elif word.startswith(\"h\") == True:\n",
        "    h += 1\n",
        "  elif word.startswith(\"i\") == True:\n",
        "    i += 1\n",
        "  elif word.startswith(\"j\") == True:\n",
        "    j += 1\n",
        "  elif word.startswith(\"k\") == True:\n",
        "    k += 1\n",
        "  elif word.startswith(\"l\") == True:\n",
        "    l += 1\n",
        "  elif word.startswith(\"m\") == True:\n",
        "    m += 1\n",
        "  elif word.startswith(\"n\") == True:\n",
        "    n += 1\n",
        "  elif word.startswith(\"o\") == True:\n",
        "    o += 1\n",
        "  elif word.startswith(\"p\") == True:\n",
        "    p += 1\n",
        "  elif word.startswith(\"q\") == True:\n",
        "    q += 1\n",
        "  elif word.startswith(\"r\") == True:\n",
        "    r += 1\n",
        "  elif word.startswith(\"s\") == True:\n",
        "    s += 1\n",
        "  elif word.startswith(\"t\") == True:\n",
        "    t += 1\n",
        "  elif word.startswith(\"u\") == True:\n",
        "    u += 1\n",
        "  elif word.startswith(\"v\") == True:\n",
        "    v += 1\n",
        "  elif word.startswith(\"w\") == True:\n",
        "    w += 1\n",
        "  elif word.startswith(\"x\") == True:\n",
        "    x += 1\n",
        "  elif word.startswith(\"y\") == True:\n",
        "    y += 1\n",
        "  elif word.startswith(\"z\") == True:\n",
        "    z += 1\n",
        "\n",
        "# Create the histogram\n",
        "x_axis = [\"a\", \"b\", \"c\", \"d\", \"e\", \"f\", \"g\", \"h\", \"i\", \"j\", \"k\", \"l\", \"m\", \"n\", \"o\", \"p\", \"q\", \"r\", \"s\", \"t\", \"u\", \"v\", \"w\", \"x\", \"y\", \"z\"]\n",
        "y_axis = [a, b, c, d, e, f, g, h, i, j, k, l, m, n, o, p, q, r, s, t, u, v, w, x, y, z]\n",
        "plt.bar(x_axis, y_axis, color='b')\n",
        "plt.plot()\n",
        "\n",
        "# Label the axes and give the whole plot a title\n",
        "plt.xlabel(\"Starting Letter\")\n",
        "plt.ylabel(\"Frequency\")\n",
        "plt.title(\"Number of Words that Start with Each letter\")\n",
        "plt.show()"
      ],
      "metadata": {
        "colab": {
          "base_uri": "https://localhost:8080/",
          "height": 472
        },
        "id": "_92k5ct8uKwI",
        "outputId": "8e0ddd47-c92d-4f7e-9674-96c7e3380ff6"
      },
      "execution_count": 41,
      "outputs": [
        {
          "output_type": "display_data",
          "data": {
            "text/plain": [
              "<Figure size 640x480 with 1 Axes>"
            ],
            "image/png": "[encoded data removed]"
          },
          "metadata": {}
        }
      ]
    },
    {
      "cell_type": "code",
      "source": [
        "#8\n",
        "# What are the six longest words in the word list\n",
        "alpha_list_copy = alpha_list.copy()\n",
        "six_longest_words = []\n",
        "for number in range(6):\n",
        "  longest_word = max(alpha_list_copy, key = len)\n",
        "  six_longest_words.append(longest_word)\n",
        "  del alpha_list_copy[alpha_list_copy.index(longest_word)]\n",
        "print(f\"The six longest words in the word list are: {six_longest_words}\")"
      ],
      "metadata": {
        "colab": {
          "base_uri": "https://localhost:8080/"
        },
        "id": "7ED3mN2ruTMq",
        "outputId": "d62688b4-9126-45a8-a13f-e9d555854a64"
      },
      "execution_count": 30,
      "outputs": [
        {
          "output_type": "stream",
          "name": "stdout",
          "text": [
            "The six longest words in the word list are: ['antidisestablishmentarianism', 'formaldehydesulphoxylate', 'pathologicopsychological', 'scientificophilosophical', 'tetraiodophenolphthalein', 'thyroparathyroidectomize']\n"
          ]
        }
      ]
    },
    {
      "cell_type": "code",
      "source": [
        "#9\n",
        "# Make a Histogram of the number of words of each length\n",
        "word_length_list = []\n",
        "for word in alpha_list:\n",
        "  word_length_two = len(word)\n",
        "  word_length_list.append(word_length_two)\n",
        "plt.hist(word_length_list, bins=28)\n",
        "plt.title(\"Frequency of the Lengths of Words in alpha_list\")\n",
        "plt.xlabel(\"Length of Word\")\n",
        "plt.ylabel(\"Frequency\")\n",
        "plt.show()\n",
        "\n",
        "# What is the most common length of a word in the wordlist\n",
        "print(\"The most common length of a word in alpha_list is 9\")"
      ],
      "metadata": {
        "colab": {
          "base_uri": "https://localhost:8080/",
          "height": 489
        },
        "id": "gGospMYQuWDl",
        "outputId": "69e2103a-f2ed-4ce7-f7ac-93f5cd0bb6d1"
      },
      "execution_count": 31,
      "outputs": [
        {
          "output_type": "display_data",
          "data": {
            "text/plain": [
              "<Figure size 640x480 with 1 Axes>"
            ],
            "image/png": "[encoded data removed]"
          },
          "metadata": {}
        },
        {
          "output_type": "stream",
          "name": "stdout",
          "text": [
            "The most common length of a word in alpha_list is 9\n"
          ]
        }
      ]
    },
    {
      "cell_type": "code",
      "source": [
        "#10\n",
        "#clean up notebook\n",
        "True"
      ],
      "metadata": {
        "colab": {
          "base_uri": "https://localhost:8080/"
        },
        "id": "P0wlc9enuYc7",
        "outputId": "44a85120-6266-4c86-858f-e99d135e774d"
      },
      "execution_count": 34,
      "outputs": [
        {
          "output_type": "execute_result",
          "data": {
            "text/plain": [
              "True"
            ]
          },
          "metadata": {},
          "execution_count": 34
        }
      ]
    },
    {
      "cell_type": "code",
      "source": [
        "#11\n",
        "# How many words contain both the letters v and a\n",
        "va_words = 0\n",
        "for word in alpha_list:\n",
        "  if \"v\" in word:\n",
        "    if \"a\" in word:\n",
        "      va_words += 1\n",
        "    else: va_words += 0\n",
        "  else:\n",
        "    va_words += 0\n",
        "print(\"There are\", va_words, \"words in alpha_list that contain the letters v and a\")\n",
        "print()\n",
        "\n",
        "# How many words contain both the letters w and l\n",
        "wl_words = 0\n",
        "for word in alpha_list:\n",
        "  if \"w\" in word:\n",
        "    if \"l\" in word:\n",
        "      wl_words += 1\n",
        "    else: wl_words += 0\n",
        "  else:\n",
        "    wl_words += 0\n",
        "print(\"There are\", wl_words, \"words in alpha_list that contain the letters w and l\")\n",
        "print()\n",
        "\n",
        "# How many times do you have to loop through the word list to answer this question\n",
        "print(\"This code only requires the computer to loop through the entire alpha_list twice in total:\\nonce for the words with v and once for the words with w.\\nAdditionally, the computer runs through all words with v to search for the words that also have a,\\nand it runs through all of the words with w to search for those that also have l.\\nSo the computer runs through four lists in total,\\nbut two of them are significantly smaller than alpha_list.\")\n",
        "print()\n",
        "\n",
        "# How long does it take to run\n",
        "print(\"This code says it takes 0 seconds to run\")"
      ],
      "metadata": {
        "colab": {
          "base_uri": "https://localhost:8080/"
        },
        "id": "NCwBKvPSuaSm",
        "outputId": "31969484-8fd2-4f12-c899-dc34acde1839"
      },
      "execution_count": 33,
      "outputs": [
        {
          "output_type": "stream",
          "name": "stdout",
          "text": [
            "There are 11347 words in alpha_list that contain the letters v and a\n",
            "\n",
            "There are 4822 words in alpha_list that contain the letters w and l\n",
            "\n",
            "This code only requires the computer to loop through the entire alpha_list twice in total:\n",
            "once for the words with v and once for the words with w.\n",
            "Additionally, the computer runs through all words with v to search for the words that also have a,\n",
            "and it runs through all of the words with w to search for those that also have l.\n",
            "So the computer runs through four lists in total,\n",
            "but two of them are significantly smaller than alpha_list.\n",
            "\n",
            "This code says it takes 0 seconds to run\n"
          ]
        }
      ]
    }
  ]
}